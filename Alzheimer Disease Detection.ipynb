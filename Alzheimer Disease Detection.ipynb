{
 "cells": [
  {
   "cell_type": "markdown",
   "metadata": {
    "_uuid": "31aff975d245f351c6a47a411251c09cf0df142a",
    "colab_type": "text",
    "id": "RPIBkis9u_2Q"
   },
   "source": [
    "# DETECTING EARLY ALZHEIMER'S USING MRI DATA AND MACHINE LEARNING\n",
    "----\n",
    "## TABLE OF CONTENT\n",
    "1. Problem Statement\n",
    "2. Data\n",
    "  1. Dataset Description\n",
    "  2. Column Descriptors\n",
    "3. Related Work\n",
    "4. Exploratory Data Analysis\n",
    "5. Data Precrocessing\n",
    "  1. Removing rows with missing values\n",
    "  2. Imputation\n",
    "  3. Splitting Train/Validation/Test Sets\n",
    "  4. Cross-validation\n",
    "6. Model\n",
    "  1. Performance Measure\n",
    "  2. Logistic Regression\n",
    "  3. Support Vector Machine\n",
    "  4. Decision Tree\n",
    "  5. Random Forest Classifier\n",
    "  6. AdaBoost\n",
    "7. Conclusion\n",
    "  1. Results\n",
    "  2. Unique Approach\n",
    "  3. Implementation\n",
    "  4. Limitation\n",
    "  5. Further Research\n",
    "8. Acknowledgements\n",
    "\n",
    "## TEAM MEMBERS\n",
    "1. Hyunseok Choi\n",
    "2. Kyuri Song\n",
    "3. Saurin Parikh\n"
   ]
  },
  {
   "cell_type": "markdown",
   "metadata": {
    "_uuid": "fedeb7d2f5ade1370c0422693aedff04d4d886f8",
    "colab_type": "text",
    "id": "Rqz5sHwoScR7"
   },
   "source": [
    "# 1. PROBLEM STATEMENT\n",
    "---\n",
    "## ALZHEIMER'S DISEASE\n",
    "\n",
    "* [Alzheimer's disease (AD)](https://en.wikipedia.org/wiki/Alzheimer%27s_disease) is a neurodegenerative disorder of uncertain cause and pathogenesis that primarily affects older adults and is the most common cause of dementia.\n",
    "* The earliest clinical manifestation of AD is selective memory impairment and while treatments are available to ameliorate some symptoms, there is no cure currently available.\n",
    "* Brain Imaging via magnetic resonance imaging (MRI), is used for evaluation of patients with suspected AD.\n",
    "* MRI findings include both, local and generalized shrinkage of brain tissue. Below is a pictorial representation of tissue shrinkage: ![braintissue](./Alzheimer's_disease_brain_comparison.jpg)\n",
    "* Some studies have suggested that MRI features may predict rate of decline of AD and may guide therapy in the future.\n",
    "* However in order to reach that stage clinicians and researchers will have to make use of machine learning techniques that can accurately predict progress of a patient from mild cognitive impairment to dementia.\n",
    "* We propose to develop a sound model that can help clinicians do that and predict early alzheimer's."
   ]
  },
  {
   "cell_type": "markdown",
   "metadata": {
    "_uuid": "6fe31a2ec5929f28eff868ae06f907daeb26fb5c",
    "colab_type": "text",
    "id": "FG0zBhPkScR7"
   },
   "source": [
    "# 2. DATA\n",
    "\n",
    "## 2.A DATASET DESCRIPTION\n",
    "* We will be using the [longitudinal MRI data]\n",
    "* The dataset consists of a longitudinal MRI data of 150 subjects aged 60 to 96.\n",
    "* Each subject was scanned at least once.\n",
    "* Everyone is right-handed.\n",
    "* 72 of the subjects were grouped as 'Nondemented' throughout the study.\n",
    "* 64 of the subjects were grouped as 'Demented' at the time of their initial visits and remained so throughout the study.\n",
    "* 14 subjects were grouped as 'Nondemented' at the time of their initial visit and were subsequently characterized as 'Demented' at a later visit. These fall under the 'Converted' category.\n",
    "\n",
    "## 2.B COLUMN DESCRIPTORS  \n",
    "\n",
    "|COL  |FULL-FORMS                          |\n",
    "|-----|------------------------------------|\n",
    "|EDUC |Years of education                  |\n",
    "|SES  |Socioeconomic Status                |\n",
    "|MMSE |[Mini Mental State Examination](http://www.dementiatoday.com/wp-content/uploads/2012/06/MiniMentalStateExamination.pdf)       |\n",
    "|CDR  |[Clinical Dementia Rating](http://knightadrc.wustl.edu/cdr/PDFs/CDR_Table.pdf)            |\n",
    "|eTIV |[Estimated Total Intracranial Volume](https://link.springer.com/article/10.1007/s12021-015-9266-5) |\n",
    "|nWBV |[Normalize Whole Brain Volume](https://www.ncbi.nlm.nih.gov/pubmed/11547042)        |\n",
    "|ASF  |[Atlas Scaling Factor](http://www.sciencedirect.com/science/article/pii/S1053811904003271)                |\n"
   ]
  },
  {
   "cell_type": "markdown",
   "metadata": {
    "_uuid": "984645524fc70c97e6546508e850c27e6bbc96cf",
    "colab_type": "text",
    "id": "NbmbuaAZmMsj"
   },
   "source": [
    "# 3. RELATED WORK\n",
    "---\n",
    "\n",
    "The original publication has only done some preliminary exploration of the MRI data as majority of their work was focused towards data gathering. However, in the recent past there have been multiple efforts that have been made to detect early-alzheimers using MRI data. Some of the work that was found in the literature was as follows:\n",
    "\n",
    "1) **Machine learning framework for early MRI-based Alzheimer's conversion prediction in MCI subjects.** [3]\n",
    "\n",
    "   In this paper the authors were interested in identifying mild cognitive impairment(MCI) as a transitional stage between age-related coginitive decline and Alzheimer's. The group proposes a novel MRI-based biomaker that they developed using machine learning techniques. They used data available from the Alzheimer's Disease Neuroimaging Initiative [ADNI](http://adni.loni.usc.edu/) Database. The paper claims that their aggregate biomarker achieved a 10-fold cross-validation area under the curve (AUC) score of 0.9020 in discriminating between progressive MCI (pMCI) and stable MCI (sMCI).\n",
    "   \n",
    "   Noteworthy Techniques:\n",
    "   1. Semi-supervised learning on data available from AD patients and normal controls, without using MCI patients, to help with the sMCI/pMCI classification. Performed feature selection using regularized logistic regression.\n",
    "   2. They removed aging effects from MRI data before classifier training to prevent possible confounding between changes due to AD and those due to normal aging.\n",
    "   3. Finally constructed an aggregate biomarker by first learning a separate MRI biomarker and then combining age and cognitive measures about MCI subjects by applying a random foresst classifier.\n",
    "\n",
    "\n",
    "2) **Detection of subjects and brain regions related to Alzheimer's disease using 3D MRI scans based on eigenbrain and machine learning.** [4] \n",
    "    \n",
    "    The authors of this paper have proposed a novel computer-aided diagnosis (CAD) system for MRI images of brains based on eigenbrains [(eg.)](https://www.frontiersin.org/files/Articles/138015/fncom-09-00066-HTML/image_m/fncom-09-00066-t010.jpg) and machine learning. In their approach they use key slices from the 3D volumetric data generated from the MRI and then generate eigenbrain images based on [EEG](https://en.wikipedia.org/wiki/Electroencephalography) data. They then used kernel support-vector-machines with different kernels that were trained by particle swarm optimization. The accuracy of their polynomial kernel (92.36 $\\pm$ 0.94) was better than their linear (91.47 $\\pm$ 1.02) anf radial basis function (86.71 $\\pm$ 1.93) kernels.\n",
    "\n",
    "\n",
    "3) **Support vector machine-based classification of Alzheimer’s disease from whole-brain anatomical MRI.** [5]\n",
    "\n",
    "    In this paper the authors propose a new method to discriminate patients with AD from elderly controls based on support vector machine (SVM) classification of whole-brain anatomical MRI. The authors used three-dimensional T1-weighted MRI images from 16 patients with AD and 22 elderly controls and parcellated them into regions of interests (ROIs). They then used a SVM algorithm to classify subjects based upon the gray matter characteristics of these ROIs. Based on their results the classifier obtained 94.5% mean correctness.\n",
    "    \n",
    "    The possible downfalls of their technique might be the fact that they haven't taken age related changes in the gray matter into account and they were working with a small data set.\n",
    "    \n",
    "    \n",
    "We have described 3 papers over here that we found the most interesting, however there are a few more that have explored the same question. Regardless, it is worthwhile to mention that the above papers were exploring raw MRI data and we, on the other hand, are dealing with 3 to 4 biomarkers that are generated from MRI images."
   ]
  },
  {
   "cell_type": "markdown",
   "metadata": {
    "_uuid": "566105ab7a54c9420a4f649dea3fa1f52da1d79d",
    "colab_type": "text",
    "id": "XZY2wtKYtH3h"
   },
   "source": [
    "# 4. EXPLORATORY DATA ANALYSIS (EDA)\n",
    "---\n",
    "\n",
    "In this section, we have focused on exploring the relationship between each feature of MRI tests and dementia of the patient. The reason we conducted this Exploratory Data Analysis process is to state the relationship of data explicitly through a graph so that we could assume the correlations before data extraction or data analysis. It might help us to understand the nature of the data and to select the appropriate analysis method for the model later.\n",
    "\n",
    "The minimum, maximum, and average values of each feature for graph implementation are as follows.\n",
    "\n",
    "||Min|Max|Mean|\n",
    "|---\n",
    "|Educ|6|23|14.6|\n",
    "|SES|1|5|2.34\n",
    "|MMSE|17|30|27.2|\n",
    "|CDR|0|1|0.29|\n",
    "|eTIV|1123|1989|1490|\n",
    "|nWBV|0.66|0.837|0.73|\n",
    "|ASF|0.883|1.563|1.2|"
   ]
  },
  {
   "cell_type": "code",
   "execution_count": 1,
   "metadata": {
    "_uuid": "6a720755860b07d7eb93e458306ec1b6fa079ed5",
    "collapsed": true
   },
   "outputs": [],
   "source": [
    "import pandas as pd\n",
    "import numpy as np\n",
    "import seaborn as sns\n",
    "import matplotlib.pyplot as plt\n",
    "%matplotlib inline\n",
    "\n",
    "sns.set()\n",
    "\n",
    "df = pd.read_csv('../input/oasis_longitudinal.csv')\n",
    "df.head()"
   ]
  },
  {
   "cell_type": "code",
   "execution_count": 2,
   "metadata": {
    "_uuid": "08991ab4c6c3aef89ad366662aad97a846aa9d8f",
    "collapsed": true
   },
   "outputs": [],
   "source": [
    "df = df.loc[df['Visit']==1] # use first visit data only because of the analysis we're doing\n",
    "df = df.reset_index(drop=True) # reset index after filtering first visit data\n",
    "df['M/F'] = df['M/F'].replace(['F','M'], [0,1]) # M/F column\n",
    "df['Group'] = df['Group'].replace(['Converted'], ['Demented']) # Target variable\n",
    "df['Group'] = df['Group'].replace(['Demented', 'Nondemented'], [1,0]) # Target variable\n",
    "df = df.drop(['MRI ID', 'Visit', 'Hand'], axis=1) # Drop unnecessary columns"
   ]
  },
  {
   "cell_type": "code",
   "execution_count": 3,
   "metadata": {
    "_uuid": "9175b97a0b02ff8ace2e3bc8a6327488b3232783",
    "colab": {
     "autoexec": {
      "startup": false,
      "wait_interval": 0
     },
     "base_uri": "https://localhost:8080/",
     "height": 919,
     "output_extras": [
      {
       "item_id": 1
      }
     ]
    },
    "colab_type": "code",
    "collapsed": true,
    "executionInfo": {
     "elapsed": 11761,
     "status": "error",
     "timestamp": 1512599691671,
     "user": {
      "displayName": "Saurin Parikh",
      "photoUrl": "//lh3.googleusercontent.com/-6RG-0wrBKjU/AAAAAAAAAAI/AAAAAAAABpU/h5Zwf5zd3tk/s50-c-k-no/photo.jpg",
      "userId": "104703813675171986785"
     },
     "user_tz": 300
    },
    "id": "-4-ZVrHJslSF",
    "outputId": "5f5cc170-02d6-41d4-f5f2-3b575833b56b"
   },
   "outputs": [],
   "source": [
    "# bar drawing function\n",
    "def bar_chart(feature):\n",
    "    Demented = df[df['Group']==1][feature].value_counts()\n",
    "    Nondemented = df[df['Group']==0][feature].value_counts()\n",
    "    df_bar = pd.DataFrame([Demented,Nondemented])\n",
    "    df_bar.index = ['Demented','Nondemented']\n",
    "    df_bar.plot(kind='bar',stacked=True, figsize=(8,5))"
   ]
  },
  {
   "cell_type": "code",
   "execution_count": 4,
   "metadata": {
    "_uuid": "5f8599d4f70b78047011217e3bbcaa26311fddc6",
    "colab": {
     "autoexec": {
      "startup": false,
      "wait_interval": 0
     },
     "output_extras": [
      {},
      {}
     ]
    },
    "colab_type": "code",
    "collapsed": true,
    "id": "k-92eJ7pslSL",
    "outputId": "d9940867-44f6-4d3a-f6fb-ddef5630877e"
   },
   "outputs": [],
   "source": [
    "# Gender  and  Group ( Femal=0, Male=1)\n",
    "bar_chart('M/F')\n",
    "plt.xlabel('Group')\n",
    "plt.ylabel('Number of patients')\n",
    "plt.legend()\n",
    "plt.title('Gender and Demented rate')"
   ]
  },
  {
   "cell_type": "markdown",
   "metadata": {
    "_uuid": "46c3ccb6893e52a6636e9a764539a92084f90407",
    "colab_type": "text",
    "id": "9m16iCGyslSO"
   },
   "source": [
    "The above graph indicates that men are more likely with dementia than women."
   ]
  },
  {
   "cell_type": "code",
   "execution_count": 5,
   "metadata": {
    "_uuid": "e1b8fbe86bbf469971aed915c2b8e9caa9cdbe53",
    "colab": {
     "autoexec": {
      "startup": false,
      "wait_interval": 0
     },
     "output_extras": [
      {},
      {}
     ]
    },
    "colab_type": "code",
    "collapsed": true,
    "id": "QfZMuTl7slSP",
    "outputId": "b3a6a8a7-5cd6-48eb-e631-20b8d30c3bad"
   },
   "outputs": [],
   "source": [
    "#MMSE : Mini Mental State Examination\n",
    "# Nondemented = 0, Demented =1\n",
    "# Nondemented has higher test result ranging from 25 to 30. \n",
    "#Min 17 ,MAX 30\n",
    "facet= sns.FacetGrid(df,hue=\"Group\", aspect=3)\n",
    "facet.map(sns.kdeplot,'MMSE',shade= True)\n",
    "facet.set(xlim=(0, df['MMSE'].max()))\n",
    "facet.add_legend()\n",
    "plt.xlim(15.30)"
   ]
  },
  {
   "cell_type": "markdown",
   "metadata": {
    "_uuid": "8d01f7c6b66442f0b1eeb814464cec8654a24945",
    "colab_type": "text",
    "id": "WumyA7d6slSR"
   },
   "source": [
    "The chart shows Nondemented group got much more higher MMSE scores than Demented group."
   ]
  },
  {
   "cell_type": "code",
   "execution_count": 6,
   "metadata": {
    "_uuid": "4dc483b489417595af5d23cf7a44de13c8ba371d",
    "colab": {
     "autoexec": {
      "startup": false,
      "wait_interval": 0
     },
     "output_extras": [
      {},
      {},
      {},
      {}
     ]
    },
    "colab_type": "code",
    "collapsed": true,
    "id": "JPuWkiWGslSS",
    "outputId": "4088e3c2-8493-41d2-c61a-c386e784fd37"
   },
   "outputs": [],
   "source": [
    "#bar_chart('ASF') = Atlas Scaling Factor\n",
    "facet= sns.FacetGrid(df,hue=\"Group\", aspect=3)\n",
    "facet.map(sns.kdeplot,'ASF',shade= True)\n",
    "facet.set(xlim=(0, df['ASF'].max()))\n",
    "facet.add_legend()\n",
    "plt.xlim(0.5, 2)\n",
    "\n",
    "#eTIV = Estimated Total Intracranial Volume\n",
    "facet= sns.FacetGrid(df,hue=\"Group\", aspect=3)\n",
    "facet.map(sns.kdeplot,'eTIV',shade= True)\n",
    "facet.set(xlim=(0, df['eTIV'].max()))\n",
    "facet.add_legend()\n",
    "plt.xlim(900, 2100)\n",
    "\n",
    "#'nWBV' = Normalized Whole Brain Volume\n",
    "# Nondemented = 0, Demented =1\n",
    "facet= sns.FacetGrid(df,hue=\"Group\", aspect=3)\n",
    "facet.map(sns.kdeplot,'nWBV',shade= True)\n",
    "facet.set(xlim=(0, df['nWBV'].max()))\n",
    "facet.add_legend()\n",
    "plt.xlim(0.6,0.9)"
   ]
  },
  {
   "cell_type": "markdown",
   "metadata": {
    "_uuid": "96f2d269e35927b57c5068b2b3dda2d145ae91f4",
    "colab_type": "text",
    "id": "1LC-PdJislSV"
   },
   "source": [
    "The chart indicates that Nondemented group has higher brain volume ratio than Demented group. This is assumed to be because the diseases affect the brain to be shrinking its tissue. "
   ]
  },
  {
   "cell_type": "code",
   "execution_count": 7,
   "metadata": {
    "_uuid": "87a846e38f21e28b3c7ad6bae536b7cd2c3e2466",
    "colab": {
     "autoexec": {
      "startup": false,
      "wait_interval": 0
     },
     "output_extras": [
      {},
      {}
     ]
    },
    "colab_type": "code",
    "collapsed": true,
    "id": "w6rN7jjSslSW",
    "outputId": "fbb23e63-a926-477c-c6ff-fc87933c1ea6"
   },
   "outputs": [],
   "source": [
    "#AGE. Nondemented =0, Demented =0\n",
    "facet= sns.FacetGrid(df,hue=\"Group\", aspect=3)\n",
    "facet.map(sns.kdeplot,'Age',shade= True)\n",
    "facet.set(xlim=(0, df['Age'].max()))\n",
    "facet.add_legend()\n",
    "plt.xlim(50,100)"
   ]
  },
  {
   "cell_type": "markdown",
   "metadata": {
    "_uuid": "e491fe3ded880c040a17cde07279b0474b00ff7a",
    "colab_type": "text",
    "id": "VlQHpQRWslSY"
   },
   "source": [
    "There is a higher concentration of 70-80 years old in the Demented patient group than those in the nondemented patients.\n",
    "We guess patients who suffered from that kind of disease has lower survival rate so that there are a few of 90 years old."
   ]
  },
  {
   "cell_type": "code",
   "execution_count": 8,
   "metadata": {
    "_uuid": "8177a32eff0fece26f2220ccc046843347afc41e",
    "colab": {
     "autoexec": {
      "startup": false,
      "wait_interval": 0
     },
     "output_extras": [
      {},
      {}
     ]
    },
    "colab_type": "code",
    "collapsed": true,
    "id": "w6rN7jjSslSW",
    "outputId": "fbb23e63-a926-477c-c6ff-fc87933c1ea6"
   },
   "outputs": [],
   "source": [
    "#'EDUC' = Years of Education\n",
    "# Nondemented = 0, Demented =1\n",
    "facet= sns.FacetGrid(df,hue=\"Group\", aspect=3)\n",
    "facet.map(sns.kdeplot,'EDUC',shade= True)\n",
    "facet.set(xlim=(df['EDUC'].min(), df['EDUC'].max()))\n",
    "facet.add_legend()\n",
    "plt.ylim(0, 0.16)"
   ]
  },
  {
   "cell_type": "markdown",
   "metadata": {
    "_uuid": "26e6c99d943c7e371e9fd7c3b962449996e743fd",
    "colab_type": "text",
    "id": "HGKJOeWYslSZ"
   },
   "source": [
    "## Intermediate Result Summary\n",
    "1. Men are more likely with demented, an Alzheimer's Disease, than Women.\n",
    "2. Demented patients were less educated in terms of years of education.\n",
    "3. Nondemented group has higher brain volume than Demented group.\n",
    "4. Higher concentration of 70-80 years old in Demented group than those in the nondemented patients."
   ]
  },
  {
   "cell_type": "markdown",
   "metadata": {
    "_uuid": "80a9f0ebb50abd31cfa14ed7d93204d00f313543",
    "colab_type": "text",
    "id": "dR7e2FEuScR8"
   },
   "source": [
    "# 5. Data Preprocessing\n",
    "---\n",
    "We identified 8 rows with missing values in SES column. We deal with this issue with 2 approaches. One is just to drop the rows with missing values. The other is to replace the missing values with the corresponing values, also known as 'Imputation'. Since we have only 150 data, I assume imputation would help the performance of our model."
   ]
  },
  {
   "cell_type": "code",
   "execution_count": 9,
   "metadata": {
    "_uuid": "c485e9bdba313a2897fa58aa61406f07c2206c27",
    "colab": {
     "autoexec": {
      "startup": false,
      "wait_interval": 0
     },
     "output_extras": [
      {}
     ]
    },
    "colab_type": "code",
    "collapsed": true,
    "id": "crn5DxTUScSI",
    "outputId": "10613858-0403-4c42-aea7-7bc3635ef60e"
   },
   "outputs": [],
   "source": [
    "# Check missing values by each column\n",
    "pd.isnull(df).sum() \n",
    "# The column, SES has 8 missing values"
   ]
  },
  {
   "cell_type": "markdown",
   "metadata": {
    "_uuid": "10bb2143731149217bd59b8ea7fb2f12706dd355",
    "colab_type": "text",
    "id": "v96VUyPYScSL"
   },
   "source": [
    "## 5.A Removing rows with missing values"
   ]
  },
  {
   "cell_type": "code",
   "execution_count": 10,
   "metadata": {
    "_uuid": "71f15a1cda750ae72a718d2ec0aa7939ac2b7855",
    "colab": {
     "autoexec": {
      "startup": false,
      "wait_interval": 0
     },
     "output_extras": [
      {}
     ]
    },
    "colab_type": "code",
    "collapsed": true,
    "id": "NCuXVrJtScSM",
    "outputId": "29e022db-bb16-44f6-bfc7-3cd3fbb6f930"
   },
   "outputs": [],
   "source": [
    "# Dropped the 8 rows with missing values in the column, SES\n",
    "df_dropna = df.dropna(axis=0, how='any')\n",
    "pd.isnull(df_dropna).sum()"
   ]
  },
  {
   "cell_type": "code",
   "execution_count": 11,
   "metadata": {
    "_uuid": "a08f0ff032efa883e45e9b5bd2b6d386dd89f9b3",
    "colab": {
     "autoexec": {
      "startup": false,
      "wait_interval": 0
     },
     "output_extras": [
      {}
     ]
    },
    "colab_type": "code",
    "collapsed": true,
    "id": "ThXMkCk0ScSQ",
    "outputId": "24c17bc4-f411-470d-e483-cd6098eff679"
   },
   "outputs": [],
   "source": [
    "df_dropna['Group'].value_counts()"
   ]
  },
  {
   "cell_type": "markdown",
   "metadata": {
    "_uuid": "9a81499adca6b212e798a6b9a123c5806d57e087",
    "colab_type": "text",
    "id": "A0ipe9qsScSU"
   },
   "source": [
    "## 5.B Imputation\n",
    "\n",
    "Scikit-learn provides package for imputation [6], but we do it manually. Since the *SES* is a discrete variable, we use median for the imputation."
   ]
  },
  {
   "cell_type": "code",
   "execution_count": 12,
   "metadata": {
    "_uuid": "1c2354281b56aaac81b5dd09cee531be85a72b1f",
    "colab": {
     "autoexec": {
      "startup": false,
      "wait_interval": 0
     },
     "output_extras": [
      {}
     ]
    },
    "colab_type": "code",
    "collapsed": true,
    "id": "62IgZtwnScSV",
    "outputId": "a5e8f86e-66d6-4147-83f7-f26b12787245"
   },
   "outputs": [],
   "source": [
    "# Draw scatter plot between EDUC and SES\n",
    "x = df['EDUC']\n",
    "y = df['SES']\n",
    "\n",
    "ses_not_null_index = y[~y.isnull()].index\n",
    "x = x[ses_not_null_index]\n",
    "y = y[ses_not_null_index]\n",
    "\n",
    "# Draw trend line in red\n",
    "z = np.polyfit(x, y, 1)\n",
    "p = np.poly1d(z)\n",
    "plt.plot(x, y, 'go', x, p(x), \"r--\")\n",
    "plt.xlabel('Education Level(EDUC)')\n",
    "plt.ylabel('Social Economic Status(SES)')\n",
    "\n",
    "plt.show()"
   ]
  },
  {
   "cell_type": "code",
   "execution_count": 13,
   "metadata": {
    "_uuid": "d2fcc229a25ba9ad1097de001cd53505ad0ba478",
    "colab": {
     "autoexec": {
      "startup": false,
      "wait_interval": 0
     },
     "output_extras": [
      {}
     ]
    },
    "colab_type": "code",
    "collapsed": true,
    "id": "cKaMRSvgScSY",
    "outputId": "f05f5530-b14c-4bb8-abbb-037e2a0838e3"
   },
   "outputs": [],
   "source": [
    "df.groupby(['EDUC'])['SES'].median()"
   ]
  },
  {
   "cell_type": "code",
   "execution_count": 14,
   "metadata": {
    "_uuid": "b41fdf3fc1f569f482e8a506f0737775e84b338a",
    "colab": {
     "autoexec": {
      "startup": false,
      "wait_interval": 0
     }
    },
    "colab_type": "code",
    "collapsed": true,
    "id": "dj_edAcdScSb"
   },
   "outputs": [],
   "source": [
    "df[\"SES\"].fillna(df.groupby(\"EDUC\")[\"SES\"].transform(\"median\"), inplace=True)"
   ]
  },
  {
   "cell_type": "code",
   "execution_count": 15,
   "metadata": {
    "_uuid": "63c36b7bc32f5cc65c8bf908113ba919a17fc5b8",
    "colab": {
     "autoexec": {
      "startup": false,
      "wait_interval": 0
     },
     "output_extras": [
      {}
     ]
    },
    "colab_type": "code",
    "collapsed": true,
    "id": "Y4SgUM58ScSd",
    "outputId": "9325d3dc-7f01-4be2-a932-a39c68d202b7"
   },
   "outputs": [],
   "source": [
    "# I confirm there're no more missing values and all the 150 data were used.\n",
    "pd.isnull(df['SES']).value_counts()"
   ]
  },
  {
   "cell_type": "markdown",
   "metadata": {
    "_uuid": "61220f51b25e5efcc5ceaa0d8f133967514b33a5"
   },
   "source": [
    "## 5.C Splitting Train/Validation/Test Sets"
   ]
  },
  {
   "cell_type": "code",
   "execution_count": 16,
   "metadata": {
    "_uuid": "b039c111537091add5e04716b4d33501855155e8",
    "colab": {
     "autoexec": {
      "startup": false,
      "wait_interval": 0
     }
    },
    "colab_type": "code",
    "collapsed": true,
    "id": "kJcRjpOIScSj"
   },
   "outputs": [],
   "source": [
    "from sklearn.model_selection import train_test_split\n",
    "from sklearn import preprocessing\n",
    "from sklearn.preprocessing import MinMaxScaler \n",
    "from sklearn.model_selection import cross_val_score"
   ]
  },
  {
   "cell_type": "code",
   "execution_count": 17,
   "metadata": {
    "_uuid": "9c0cd7fedabdd26e4dbd2e5ed19a79c9097511c8",
    "colab": {
     "autoexec": {
      "startup": false,
      "wait_interval": 0
     }
    },
    "colab_type": "code",
    "collapsed": true,
    "id": "eI6EXWT7ScSm"
   },
   "outputs": [],
   "source": [
    "# Dataset with imputation\n",
    "Y = df['Group'].values # Target for the model\n",
    "X = df[['M/F', 'Age', 'EDUC', 'SES', 'MMSE', 'eTIV', 'nWBV', 'ASF']] # Features we use\n",
    "\n",
    "# splitting into three sets\n",
    "X_trainval, X_test, Y_trainval, Y_test = train_test_split(\n",
    "    X, Y, random_state=0)\n",
    "\n",
    "# Feature scaling\n",
    "scaler = MinMaxScaler().fit(X_trainval)\n",
    "X_trainval_scaled = scaler.transform(X_trainval)\n",
    "X_test_scaled = scaler.transform(X_test)"
   ]
  },
  {
   "cell_type": "code",
   "execution_count": 18,
   "metadata": {
    "_uuid": "aa47c091672863c3ad5c785a65cf227977cb9c37",
    "colab": {
     "autoexec": {
      "startup": false,
      "wait_interval": 0
     }
    },
    "colab_type": "code",
    "collapsed": true,
    "id": "oQAwHijeScSq"
   },
   "outputs": [],
   "source": [
    "# Dataset after dropping missing value rows\n",
    "Y = df_dropna['Group'].values # Target for the model\n",
    "X = df_dropna[['M/F', 'Age', 'EDUC', 'SES', 'MMSE', 'eTIV', 'nWBV', 'ASF']] # Features we use\n",
    "\n",
    "# splitting into three sets\n",
    "X_trainval_dna, X_test_dna, Y_trainval_dna, Y_test_dna = train_test_split(\n",
    "    X, Y, random_state=0)\n",
    "\n",
    "# Feature scaling\n",
    "scaler = MinMaxScaler().fit(X_trainval_dna)\n",
    "X_trainval_scaled_dna = scaler.transform(X_trainval_dna)\n",
    "X_test_scaled_dna = scaler.transform(X_test_dna)"
   ]
  },
  {
   "cell_type": "markdown",
   "metadata": {
    "_uuid": "b2356d2f3b9b746909c52e98c88c9dd9e20f77bf",
    "colab_type": "text",
    "id": "Hh0VrtWIScSt"
   },
   "source": [
    "## 5.D Cross-validation\n",
    "We conduct 5-fold cross-validation to figure out the best parameters for each model, Logistic Regression, SVM, Decision Tree, Random Forests, and AdaBoost. Since our performance metric is accuracy, we find the best tuning parameters by *accuracy*. In the end, we compare the accuracy, recall and AUC for each model."
   ]
  },
  {
   "cell_type": "markdown",
   "metadata": {
    "_uuid": "27d4266a859c95510a8355df6c98c741a4805224",
    "colab_type": "text",
    "id": "vgYxX0OkScSj"
   },
   "source": [
    "# 6. MODEL\n",
    "---"
   ]
  },
  {
   "cell_type": "markdown",
   "metadata": {
    "_uuid": "3bef5c29ca278b2aee2e6d0786e78149ab1bd83d",
    "colab_type": "text",
    "id": "ZmzXtTaFScSs"
   },
   "source": [
    "## 6.A Performance Measures\n",
    "\n",
    "We use area under the receiver operating characteristic curve (AUC) as our main performance measure. We believe that in case of medical diagnostics for non-life threatening terminal diseases like most neurodegenerative diseases it is important to have a high true positive rate so that all patients with alzheimer's are identified as early as possible. But we also want to make sure that the false positive rate is as low as possible since we do not want to misdiagnose a healthy adult as demented and begin medical therapy. Hence AUC seemed like a ideal choice for a performance measure.\n",
    "\n",
    "We will also be looking at accuracy and recall for each model.\n",
    "\n",
    "In the figure below, you can think relevant elements as actually demented subjects.\n",
    "Precision and Recall [12]\n",
    "![Precision and Recall](https://upload.wikimedia.org/wikipedia/commons/2/26/Precisionrecall.svg)"
   ]
  },
  {
   "cell_type": "markdown",
   "metadata": {
    "_uuid": "52d9efbf3184f96ff3a0767e08d3d1e6f8ea1a73",
    "colab_type": "text",
    "id": "L0zOT1CAScSu"
   },
   "source": [
    "## 6.B Logistic Regression\n",
    "The parameter C, inverse of regularization strength.\n",
    "\n",
    "Tuning range: [0.001, 0.1, 1, 10, 100]"
   ]
  },
  {
   "cell_type": "code",
   "execution_count": 19,
   "metadata": {
    "_uuid": "f8dcc6798d6f0aa777fff85c880a47ec78ad9e5c",
    "collapsed": true
   },
   "outputs": [],
   "source": [
    "from sklearn.linear_model import LogisticRegression\n",
    "from sklearn.svm import SVC\n",
    "from sklearn.tree import DecisionTreeClassifier\n",
    "from sklearn.ensemble import RandomForestClassifier\n",
    "from sklearn.ensemble import AdaBoostClassifier\n",
    "from sklearn.metrics import confusion_matrix, accuracy_score, recall_score, roc_curve, auc"
   ]
  },
  {
   "cell_type": "code",
   "execution_count": 20,
   "metadata": {
    "_uuid": "252a6294c3c8754c0e19660e5ad7c0af189fd8e5",
    "colab": {
     "autoexec": {
      "startup": false,
      "wait_interval": 0
     }
    },
    "colab_type": "code",
    "collapsed": true,
    "id": "nvBhRVT_ScSu"
   },
   "outputs": [],
   "source": [
    "acc = [] # list to store all performance metric"
   ]
  },
  {
   "cell_type": "code",
   "execution_count": 21,
   "metadata": {
    "_uuid": "cb9f7249fa6793ec6e339aeb9936c26fbdfe552d",
    "colab": {
     "autoexec": {
      "startup": false,
      "wait_interval": 0
     },
     "output_extras": [
      {}
     ]
    },
    "colab_type": "code",
    "collapsed": true,
    "id": "xsWC0JpIScSw",
    "outputId": "f0c4357e-951e-4078-9356-f01f7326c056"
   },
   "outputs": [],
   "source": [
    "# Dataset with imputation\n",
    "best_score=0\n",
    "kfolds=5 # set the number of folds\n",
    "\n",
    "for c in [0.001, 0.1, 1, 10, 100]:\n",
    "    logRegModel = LogisticRegression(C=c)\n",
    "    # perform cross-validation\n",
    "    scores = cross_val_score(logRegModel, X_trainval, Y_trainval, cv=kfolds, scoring='accuracy') # Get recall for each parameter setting\n",
    "    \n",
    "    # compute mean cross-validation accuracy\n",
    "    score = np.mean(scores)\n",
    "    \n",
    "    # Find the best parameters and score\n",
    "    if score > best_score:\n",
    "        best_score = score\n",
    "        best_parameters = c\n",
    "\n",
    "# rebuild a model on the combined training and validation set\n",
    "SelectedLogRegModel = LogisticRegression(C=best_parameters).fit(X_trainval_scaled, Y_trainval)\n",
    "\n",
    "test_score = SelectedLogRegModel.score(X_test_scaled, Y_test)\n",
    "PredictedOutput = SelectedLogRegModel.predict(X_test_scaled)\n",
    "test_recall = recall_score(Y_test, PredictedOutput, pos_label=1)\n",
    "fpr, tpr, thresholds = roc_curve(Y_test, PredictedOutput, pos_label=1)\n",
    "test_auc = auc(fpr, tpr)\n",
    "print(\"Best accuracy on validation set is:\", best_score)\n",
    "print(\"Best parameter for regularization (C) is: \", best_parameters)\n",
    "print(\"Test accuracy with best C parameter is\", test_score)\n",
    "print(\"Test recall with the best C parameter is\", test_recall)\n",
    "print(\"Test AUC with the best C parameter is\", test_auc)\n",
    "m = 'Logistic Regression (w/ imputation)'\n",
    "acc.append([m, test_score, test_recall, test_auc, fpr, tpr, thresholds])"
   ]
  },
  {
   "cell_type": "code",
   "execution_count": 22,
   "metadata": {
    "_uuid": "200d475f03c493ecc5de448537841771d0817eb9",
    "colab": {
     "autoexec": {
      "startup": false,
      "wait_interval": 0
     },
     "output_extras": [
      {}
     ]
    },
    "colab_type": "code",
    "collapsed": true,
    "id": "Zb-VqkXUScSz",
    "outputId": "2f1858c0-335a-4720-dc18-bef6e3c10a9e"
   },
   "outputs": [],
   "source": [
    "# Dataset after dropping missing value rows\n",
    "best_score=0\n",
    "kfolds=5 # set the number of folds\n",
    "\n",
    "for c in [0.001, 0.1, 1, 10, 100]:\n",
    "    logRegModel = LogisticRegression(C=c)\n",
    "    # perform cross-validation\n",
    "    scores = cross_val_score(logRegModel, X_trainval_scaled_dna, Y_trainval_dna, cv=kfolds, scoring='accuracy')\n",
    "    \n",
    "    # compute mean cross-validation accuracy\n",
    "    score = np.mean(scores)\n",
    "    \n",
    "    # Find the best parameters and score\n",
    "    if score > best_score:\n",
    "        best_score = score\n",
    "        best_parameters = c\n",
    "\n",
    "# rebuild a model on the combined training and validation set\n",
    "SelectedLogRegModel = LogisticRegression(C=best_parameters).fit(X_trainval_scaled_dna, Y_trainval_dna)\n",
    "\n",
    "test_score = SelectedLogRegModel.score(X_test_scaled_dna, Y_test_dna)\n",
    "PredictedOutput = SelectedLogRegModel.predict(X_test_scaled)\n",
    "test_recall = recall_score(Y_test, PredictedOutput, pos_label=1)\n",
    "fpr, tpr, thresholds = roc_curve(Y_test, PredictedOutput, pos_label=1)\n",
    "test_auc = auc(fpr, tpr)\n",
    "print(\"Best accuracy on validation set is:\", best_score)\n",
    "print(\"Best parameter for regularization (C) is: \", best_parameters)\n",
    "print(\"Test accuracy with best C parameter is\", test_score)        \n",
    "print(\"Test recall with the best C parameter is\", test_recall)\n",
    "print(\"Test AUC with the best C parameter is\", test_auc)\n",
    "\n",
    "m = 'Logistic Regression (w/ dropna)'\n",
    "acc.append([m, test_score, test_recall, test_recall, fpr, tpr, thresholds])"
   ]
  },
  {
   "cell_type": "markdown",
   "metadata": {
    "_uuid": "9b30f505fa1febaa9b0577ef2943906046f77413"
   },
   "source": [
    "In overall, dataset with imputation outperforms the one without imputation. For the later models, we use dataset without imputation."
   ]
  },
  {
   "cell_type": "markdown",
   "metadata": {
    "_uuid": "c3fcf0473df26fdea9ba51953aab1f53b2e522c5",
    "colab_type": "text",
    "id": "Gj3b-ssXScS2"
   },
   "source": [
    "## 6.C SVM\n",
    "C: Penalty parameter C of the error term. [0.001, 0.01, 0.1, 1, 10, 100, 1000]\n",
    "\n",
    "gamma: kernel coefficient. [0.001, 0.01, 0.1, 1, 10, 100, 1000]\n",
    "\n",
    "kernel: kernel type. ['rbf', 'linear', 'poly', 'sigmoid']"
   ]
  },
  {
   "cell_type": "code",
   "execution_count": 23,
   "metadata": {
    "_uuid": "527bf4c3aaeb65eeb16f929c2c8c82ce4c2263c2",
    "colab": {
     "autoexec": {
      "startup": false,
      "wait_interval": 0
     },
     "output_extras": [
      {}
     ]
    },
    "colab_type": "code",
    "collapsed": true,
    "id": "Xp5EM__NScS2",
    "outputId": "ac91ced2-9648-4248-8c62-6babfb401178"
   },
   "outputs": [],
   "source": [
    "best_score = 0\n",
    "\n",
    "for c_paramter in [0.001, 0.01, 0.1, 1, 10, 100, 1000]: #iterate over the values we need to try for the parameter C\n",
    "    for gamma_paramter in [0.001, 0.01, 0.1, 1, 10, 100, 1000]: #iterate over the values we need to try for the parameter gamma\n",
    "        for k_parameter in ['rbf', 'linear', 'poly', 'sigmoid']: # iterate over the values we need to try for the kernel parameter\n",
    "            svmModel = SVC(kernel=k_parameter, C=c_paramter, gamma=gamma_paramter) #define the model\n",
    "            # perform cross-validation\n",
    "            scores = cross_val_score(svmModel, X_trainval_scaled, Y_trainval, cv=kfolds, scoring='accuracy')\n",
    "            # the training set will be split internally into training and cross validation\n",
    "\n",
    "            # compute mean cross-validation accuracy\n",
    "            score = np.mean(scores)\n",
    "            # if we got a better score, store the score and parameters\n",
    "            if score > best_score:\n",
    "                best_score = score #store the score \n",
    "                best_parameter_c = c_paramter #store the parameter c\n",
    "                best_parameter_gamma = gamma_paramter #store the parameter gamma\n",
    "                best_parameter_k = k_parameter\n",
    "            \n",
    "\n",
    "# rebuild a model with best parameters to get score \n",
    "SelectedSVMmodel = SVC(C=best_parameter_c, gamma=best_parameter_gamma, kernel=best_parameter_k).fit(X_trainval_scaled, Y_trainval)\n",
    "\n",
    "test_score = SelectedSVMmodel.score(X_test_scaled, Y_test)\n",
    "PredictedOutput = SelectedSVMmodel.predict(X_test_scaled)\n",
    "test_recall = recall_score(Y_test, PredictedOutput, pos_label=1)\n",
    "fpr, tpr, thresholds = roc_curve(Y_test, PredictedOutput, pos_label=1)\n",
    "test_auc = auc(fpr, tpr)\n",
    "print(\"Best accuracy on cross validation set is:\", best_score)\n",
    "print(\"Best parameter for c is: \", best_parameter_c)\n",
    "print(\"Best parameter for gamma is: \", best_parameter_gamma)\n",
    "print(\"Best parameter for kernel is: \", best_parameter_k)\n",
    "print(\"Test accuracy with the best parameters is\", test_score)\n",
    "print(\"Test recall with the best parameters is\", test_recall)\n",
    "print(\"Test recall with the best parameter is\", test_auc)\n",
    "\n",
    "m = 'SVM'\n",
    "acc.append([m, test_score, test_recall, test_auc, fpr, tpr, thresholds])"
   ]
  },
  {
   "cell_type": "markdown",
   "metadata": {
    "_uuid": "2a111665a3aeefa0449d6e9b86efb45e14e5996d",
    "colab_type": "text",
    "id": "mYGAer5hScS5"
   },
   "source": [
    "## 6.D Decision Tree\n",
    "Maximum depth. [1, 2, ..., 8]\n",
    "\n",
    "8 is the number of features"
   ]
  },
  {
   "cell_type": "code",
   "execution_count": 24,
   "metadata": {
    "_uuid": "4c27de17e77f9b986e27d2090113bce38bd67fba",
    "colab": {
     "autoexec": {
      "startup": false,
      "wait_interval": 0
     },
     "output_extras": [
      {}
     ]
    },
    "colab_type": "code",
    "collapsed": true,
    "id": "jGI1Smg7ScS6",
    "outputId": "86ea4ca6-b57f-47c0-fc4c-a958e1da8f95"
   },
   "outputs": [],
   "source": [
    "best_score = 0\n",
    "\n",
    "for md in range(1, 9): # iterate different maximum depth values\n",
    "    # train the model\n",
    "    treeModel = DecisionTreeClassifier(random_state=0, max_depth=md, criterion='gini')\n",
    "    # perform cross-validation\n",
    "    scores = cross_val_score(treeModel, X_trainval_scaled, Y_trainval, cv=kfolds, scoring='accuracy')\n",
    "    \n",
    "    # compute mean cross-validation accuracy\n",
    "    score = np.mean(scores)\n",
    "    \n",
    "    # if we got a better score, store the score and parameters\n",
    "    if score > best_score:\n",
    "        best_score = score\n",
    "        best_parameter = md\n",
    "\n",
    "# Rebuild a model on the combined training and validation set        \n",
    "SelectedDTModel = DecisionTreeClassifier(max_depth=best_parameter).fit(X_trainval_scaled, Y_trainval )\n",
    "\n",
    "test_score = SelectedDTModel.score(X_test_scaled, Y_test)\n",
    "PredictedOutput = SelectedDTModel.predict(X_test_scaled)\n",
    "test_recall = recall_score(Y_test, PredictedOutput, pos_label=1)\n",
    "fpr, tpr, thresholds = roc_curve(Y_test, PredictedOutput, pos_label=1)\n",
    "test_auc = auc(fpr, tpr)\n",
    "print(\"Best accuracy on validation set is:\", best_score)\n",
    "print(\"Best parameter for the maximum depth is: \", best_parameter)\n",
    "print(\"Test accuracy with best parameter is \", test_score)\n",
    "print(\"Test recall with best parameters is \", test_recall)\n",
    "print(\"Test AUC with the best parameter is \", test_auc)\n",
    "\n",
    "m = 'Decision Tree'\n",
    "acc.append([m, test_score, test_recall, test_auc, fpr, tpr, thresholds])"
   ]
  },
  {
   "cell_type": "code",
   "execution_count": 25,
   "metadata": {
    "_uuid": "802da5f22fbe73ff4d4ff097408da95100fababe",
    "colab": {
     "autoexec": {
      "startup": false,
      "wait_interval": 0
     },
     "output_extras": [
      {},
      {}
     ]
    },
    "colab_type": "code",
    "collapsed": true,
    "id": "3k1LzTAOScS9",
    "outputId": "c4d23b31-7cde-459d-c745-df64c9716cad"
   },
   "outputs": [],
   "source": [
    "print(\"Feature importance: \")\n",
    "np.array([X.columns.values.tolist(), list(SelectedDTModel.feature_importances_)]).T"
   ]
  },
  {
   "cell_type": "code",
   "execution_count": 26,
   "metadata": {
    "_uuid": "9df711a59c1470af47f2c5a83f2e9cb11dcb00c7",
    "colab": {
     "autoexec": {
      "startup": false,
      "wait_interval": 0
     },
     "output_extras": [
      {}
     ]
    },
    "colab_type": "code",
    "collapsed": true,
    "id": "jAXEhs2gScS_",
    "outputId": "8fccfeea-ec7f-4bad-9029-0b66b4aa09f7"
   },
   "outputs": [],
   "source": [
    "from sklearn.tree import export_graphviz\n",
    "import graphviz \n",
    "dot_data=export_graphviz(SelectedDTModel, feature_names=X_trainval.columns.values.tolist(),out_file=None)\n",
    "graph = graphviz.Source(dot_data)  \n",
    "graph "
   ]
  },
  {
   "cell_type": "markdown",
   "metadata": {
    "_uuid": "20608c740de79f3ea76598be6c3e3e8fd158fd82",
    "colab_type": "text",
    "id": "ZkIF7600ScTD"
   },
   "source": [
    "## 6.E Random Forest Classifier\n",
    "n_estimators(M): the number of trees in the forest\n",
    "\n",
    "max_features(d): the number of features to consider when looking for the best split\n",
    "\n",
    "max_depth(m): the maximum depth of the tree. "
   ]
  },
  {
   "cell_type": "code",
   "execution_count": 27,
   "metadata": {
    "_uuid": "0314f070def4da297b2b8712cea7727f6d5d8112",
    "colab": {
     "autoexec": {
      "startup": false,
      "wait_interval": 0
     },
     "output_extras": [
      {}
     ]
    },
    "colab_type": "code",
    "collapsed": true,
    "id": "zi0Ssns3ScTE",
    "outputId": "e7adb6b8-ccfd-47b4-f65c-01848c1a0450"
   },
   "outputs": [],
   "source": [
    "best_score = 0\n",
    "\n",
    "for M in range(2, 15, 2): # combines M trees\n",
    "    for d in range(1, 9): # maximum number of features considered at each split\n",
    "        for m in range(1, 9): # maximum depth of the tree\n",
    "            # train the model\n",
    "            # n_jobs(4) is the number of parallel computing\n",
    "            forestModel = RandomForestClassifier(n_estimators=M, max_features=d, n_jobs=4,\n",
    "                                          max_depth=m, random_state=0)\n",
    "        \n",
    "            # perform cross-validation\n",
    "            scores = cross_val_score(forestModel, X_trainval_scaled, Y_trainval, cv=kfolds, scoring='accuracy')\n",
    "\n",
    "            # compute mean cross-validation accuracy\n",
    "            score = np.mean(scores)\n",
    "\n",
    "            # if we got a better score, store the score and parameters\n",
    "            if score > best_score:\n",
    "                best_score = score\n",
    "                best_M = M\n",
    "                best_d = d\n",
    "                best_m = m\n",
    "\n",
    "# Rebuild a model on the combined training and validation set        \n",
    "SelectedRFModel = RandomForestClassifier(n_estimators=M, max_features=d,\n",
    "                                          max_depth=m, random_state=0).fit(X_trainval_scaled, Y_trainval )\n",
    "\n",
    "PredictedOutput = SelectedRFModel.predict(X_test_scaled)\n",
    "test_score = SelectedRFModel.score(X_test_scaled, Y_test)\n",
    "test_recall = recall_score(Y_test, PredictedOutput, pos_label=1)\n",
    "fpr, tpr, thresholds = roc_curve(Y_test, PredictedOutput, pos_label=1)\n",
    "test_auc = auc(fpr, tpr)\n",
    "print(\"Best accuracy on validation set is:\", best_score)\n",
    "print(\"Best parameters of M, d, m are: \", best_M, best_d, best_m)\n",
    "print(\"Test accuracy with the best parameters is\", test_score)\n",
    "print(\"Test recall with the best parameters is:\", test_recall)\n",
    "print(\"Test AUC with the best parameters is:\", test_auc)\n",
    "\n",
    "m = 'Random Forest'\n",
    "acc.append([m, test_score, test_recall, test_auc, fpr, tpr, thresholds])"
   ]
  },
  {
   "cell_type": "code",
   "execution_count": 28,
   "metadata": {
    "_uuid": "7264a60baa490343e92e743d43f635a18af9fa13",
    "colab": {
     "autoexec": {
      "startup": false,
      "wait_interval": 0
     },
     "output_extras": [
      {},
      {}
     ]
    },
    "colab_type": "code",
    "collapsed": true,
    "id": "Mcx6LmzcScTJ",
    "outputId": "f7ba2e6f-1a5b-4495-a9b1-2a0973101259"
   },
   "outputs": [],
   "source": [
    "print(\"Feature importance: \")\n",
    "np.array([X.columns.values.tolist(), list(SelectedRFModel.feature_importances_)]).T"
   ]
  },
  {
   "cell_type": "markdown",
   "metadata": {
    "_uuid": "ea3b9dd38fd2bbfe32e1cdd35ed6a3cdfa2dbccc"
   },
   "source": [
    "## 6.F AdaBoost"
   ]
  },
  {
   "cell_type": "code",
   "execution_count": 29,
   "metadata": {
    "_uuid": "9eab03ab2cd59e507dc30b632c60fb0aeb1d2c37",
    "collapsed": true
   },
   "outputs": [],
   "source": [
    "best_score = 0\n",
    "\n",
    "for M in range(2, 15, 2): # combines M trees\n",
    "    for lr in [0.0001, 0.001, 0.01, 0.1, 1]:\n",
    "        # train the model\n",
    "        boostModel = AdaBoostClassifier(n_estimators=M, learning_rate=lr, random_state=0)\n",
    "\n",
    "        # perform cross-validation\n",
    "        scores = cross_val_score(boostModel, X_trainval_scaled, Y_trainval, cv=kfolds, scoring='accuracy')\n",
    "\n",
    "        # compute mean cross-validation accuracy\n",
    "        score = np.mean(scores)\n",
    "\n",
    "        # if we got a better score, store the score and parameters\n",
    "        if score > best_score:\n",
    "            best_score = score\n",
    "            best_M = M\n",
    "            best_lr = lr\n",
    "\n",
    "# Rebuild a model on the combined training and validation set        \n",
    "SelectedBoostModel = AdaBoostClassifier(n_estimators=M, learning_rate=lr, random_state=0).fit(X_trainval_scaled, Y_trainval )\n",
    "\n",
    "PredictedOutput = SelectedBoostModel.predict(X_test_scaled)\n",
    "test_score = SelectedRFModel.score(X_test_scaled, Y_test)\n",
    "test_recall = recall_score(Y_test, PredictedOutput, pos_label=1)\n",
    "fpr, tpr, thresholds = roc_curve(Y_test, PredictedOutput, pos_label=1)\n",
    "test_auc = auc(fpr, tpr)\n",
    "print(\"Best accuracy on validation set is:\", best_score)\n",
    "print(\"Best parameter of M is: \", best_M)\n",
    "print(\"best parameter of LR is: \", best_lr)\n",
    "print(\"Test accuracy with the best parameter is\", test_score)\n",
    "print(\"Test recall with the best parameters is:\", test_recall)\n",
    "print(\"Test AUC with the best parameters is:\", test_auc)\n",
    "\n",
    "m = 'AdaBoost'\n",
    "acc.append([m, test_score, test_recall, test_auc, fpr, tpr, thresholds])"
   ]
  },
  {
   "cell_type": "code",
   "execution_count": 30,
   "metadata": {
    "_uuid": "a240cd4c2abd5b9bb46c10b21d157e663665a2bb",
    "collapsed": true
   },
   "outputs": [],
   "source": [
    "print(\"Feature importance: \")\n",
    "np.array([X.columns.values.tolist(), list(SelectedBoostModel.feature_importances_)]).T"
   ]
  },
  {
   "cell_type": "markdown",
   "metadata": {
    "_uuid": "5defe4c299e6a47547b1d05a533c90aba26c0365",
    "colab_type": "text",
    "id": "w1vFrwcwScTO"
   },
   "source": [
    "# 7. CONCLUSION\n",
    "\n",
    "## 7.A RESULTS"
   ]
  },
  {
   "cell_type": "code",
   "execution_count": 31,
   "metadata": {
    "_uuid": "567d27a76de89fd5c9feb715bfc0e58400872f7e",
    "collapsed": true
   },
   "outputs": [],
   "source": [
    "# Performance Metric for each model\n",
    "result = pd.DataFrame(acc, columns=['Model', 'Accuracy', 'Recall', 'AUC', 'FPR', 'TPR', 'TH'])\n",
    "result[['Model', 'Accuracy', 'Recall', 'AUC']]"
   ]
  },
  {
   "cell_type": "markdown",
   "metadata": {
    "_uuid": "97515e1017176438f0b63b12ef68038a396a0778"
   },
   "source": [
    "#### Below is a comparision of our results with those from the papers that were listed previously:\n",
    "\n",
    "|Sr.No.|Paper|Data|Model|Results|\n",
    "|---\n",
    "|1.|E. Moradi et al. [3]|Ye et al. [7]|Random Forrest Classifier|AUC = 71.0%|ACC = 55.3%|\n",
    "|||Filipovych et al. [8]|Random Forrest Classifier|AUC = 61.0%|ACC = N/A|\n",
    "|||Zhang et al. [9]|Random Forrest Classifier|AUC = 94.6%|ACC = N/A|\n",
    "|||Batmanghelich et al. [10]|Random Forrest Classifier|AUC = 61.5%|ACC = N/A|\n",
    "|2.|Zhang et al. [4]|Ardekani et al. [11]|Support Vector Machine |||\n",
    "||||*polynomial kernel*|AUC = N/A|ACC = 92.4%|\n",
    "||||*linear kernel*|AUC = N/A|ACC = 91.5%|\n",
    "||||*radial basis function*|AUC = N/A|ACC = 86.7%|\n",
    "|3.|Hyun, Kyuri, Saurin|Marcus et al. [1]| Logistic Regression (w/ imputation)|AUC = 79.2%|ACC = 78.9%|\n",
    "||||Logistic Regression (w/ dropna)|AUC = 70.0%|ACC = 75.0%|\n",
    "||||Support Vector Machine|AUC = 82.2%|ACC = 81.6%|\n",
    "||||Decision Tree Classifier|AUC = 82.5%|ACC = 81.6%|\n",
    "||||Random Forest Classifier|AUC = 84.4%|ACC = 84.2%|\n",
    "||||AdaBoost|AUC = 82.5%|ACC = 84.2%|\n",
    "\n",
    "It can be noticed that our results are comparable and in certain cases better than those from the previous work. Our Random Forest Classifier was one of the best performing model."
   ]
  },
  {
   "cell_type": "markdown",
   "metadata": {
    "_uuid": "d8e735911083847bdff95aac9cf9d76c0cbd730e",
    "colab_type": "text",
    "id": "30ETMyJAszMY"
   },
   "source": [
    "## 7.B UNIQUE APPROACH\n",
    "The uniqueness of our approach is the fact that we would be including metrices like MMSE and Education also in our model to train it to differentiate between normal healthy adults and those with Alzheimer's. MMSE is one of the gold standards for determining dementia and hence we think it is an important feature to include.\n",
    "\n",
    "The same fact also make our approach flexible enough to be applied to other neurodegenerative diseases which are diagnosed using a combination of MRI features and cognitive tests.\n",
    "\n",
    "## 7.C IMPLEMENTATION\n",
    "The teams' primary intention was to explore how machine learning can make a difference in the clinical environment. For that we have developed a web program using our algorithm which can be used anyone regardless of their programming experience. By using a [CGI module](https://docs.python.org/2/library/cgi.html) we want to make everyone take advantage of your effort!\n",
    "\n",
    "\n",
    "#### Common Gateway Interface (CGI)\n",
    "* CGI can be used make a webserver execute your model.\n",
    "* The input arguments for your web program should be the same as the parameters you used to train your model.\n",
    "* The idea is that a Clinician should be able to input MRI results, biographic data and other parameters for a patient. Your model should assist them in identifying dementia.\n",
    "\n",
    "\n",
    "#### Here is the [screenshot](https://pitt.box.com/s/a0wvujqqbbtt97qri1pqo06mw28rwjlb) of our web application\n",
    "\n",
    "\n",
    "## 7.D LIMITATIONS\n",
    "There are limitations in implementing a complex model because of the quantity of the dataset. Even though the nature of each feature is evident, the ranges of each group's test value are not classified well. In other words, we should have identified more clearly the differences in the variables which might have played a role in the result.The predicted value using the random forest model is higher than the other models. It implies there is a potential for higher prediction rate if we pay more attention to develop the data cleaning and analysis process. Moreover,  the perfect recall score 1.0 of SVM 1.0. Indicates that the quality and accuracy of the classification might decrease dramatically when we use different dataset.\n",
    "\n",
    "\n",
    "##  7.E FURTHER RESEARCH\n",
    "The main takeaway for us is that there are several key factors which are caused by Dementia and we should continue to check it and clear the process in different ways.For the further study, it is necessary for us to improve our understanding through more sophisticated EDA process with a larger sample size. For instance, we would try not only the age itself but also group it into generation, or grade volume of brain tissue or exam scores. If the results from this process are reflected in the data cleaning process and positively affect the decision making of the model, the accuracy of the prediction model can be further improved."
   ]
  }
 ],
 "metadata": {
  "anaconda-cloud": {},
  "colab": {
   "collapsed_sections": [],
   "default_view": {},
   "name": "FinalReport_Code.ipynb",
   "provenance": [],
   "version": "0.3.2",
   "views": {}
  },
  "kernelspec": {
   "display_name": "Python 3",
   "language": "python",
   "name": "python3"
  },
  "language_info": {
   "codemirror_mode": {
    "name": "ipython",
    "version": 3
   },
   "file_extension": ".py",
   "mimetype": "text/x-python",
   "name": "python",
   "nbconvert_exporter": "python",
   "pygments_lexer": "ipython3",
   "version": "3.6.7"
  }
 },
 "nbformat": 4,
 "nbformat_minor": 1
}
